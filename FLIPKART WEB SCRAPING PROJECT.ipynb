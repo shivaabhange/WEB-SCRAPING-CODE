{
 "cells": [
  {
   "cell_type": "markdown",
   "id": "64bc0c19",
   "metadata": {},
   "source": [
    "# First Install The Autoscraper library# "
   ]
  },
  {
   "cell_type": "markdown",
   "id": "70c80f89",
   "metadata": {},
   "source": [
    "# Install the Autoscraper"
   ]
  },
  {
   "cell_type": "code",
   "execution_count": 13,
   "id": "16959ae6",
   "metadata": {},
   "outputs": [],
   "source": [
    " from autoscraper import AutoScraper"
   ]
  },
  {
   "cell_type": "markdown",
   "id": "32dc692a",
   "metadata": {},
   "source": [
    "# Importing the URL with wantedd list items from website."
   ]
  },
  {
   "cell_type": "code",
   "execution_count": 14,
   "id": "f659d207",
   "metadata": {},
   "outputs": [],
   "source": [
    "flipkart_url=\"https://www.flipkart.com/search?q=mi%20phones\"\n",
    "wanted_list=['₹31,999',' Xiaomi 11i Hypercharge 5G (Pacific Pearl, 128 GB)',' 4.26,359 Ratings']"
   ]
  },
  {
   "cell_type": "markdown",
   "id": "d77c7e1b",
   "metadata": {},
   "source": [
    "# Build the Aautoscraper Bulding Block"
   ]
  },
  {
   "cell_type": "code",
   "execution_count": 15,
   "id": "16c78201",
   "metadata": {},
   "outputs": [
    {
     "name": "stdout",
     "output_type": "stream",
     "text": [
      "['₹8,793', '₹31,999', '₹8,060', '₹6,799', '₹15,839', '₹8,080', '₹6,989', '₹18,468', '₹16,285', '₹6,845', '₹17,799', '₹33,999', '₹15,929', 'REDMI 10A (Slate Grey, 32 GB)', 'REDMI 10A (Slate grey, 64 GB)', 'REDMI 10A (Sea Blue, 64 GB)', 'Xiaomi 11i Hypercharge 5G (Pacific Pearl, 128 GB)', 'Redmi 9A Sport (Carbon Black, 32 GB)', 'Redmi 9A Sport (Metallic Blue, 32 GB)', 'REDMI Note 11T 5G (Stardust White, 128 GB)', 'Redmi 9A Sport (Coral Green, 32 GB)', 'REDMI 10A (Charcoal Black, 64 GB)', 'Redmi Note 11 (Horizon Blue, 64 GB)', 'Redmi Note 11 PRO Plus 5G (Phantom White, 128 GB)', 'REDMI Note 11T 5G (Aquamarine Blue, 128 GB)', 'Redmi Note 11S (Space Black, 128 GB)', 'Redmi Note 11 (Starburst White, 128 GB)', 'REDMI Note 11T 5G (Matte black, 128 GB)', 'Xiaomi 11i Hypercharge 5G (Stealth Black, 128 GB)', 'Xiaomi 11i 5G (Stealth Black, 128 GB)', 'Redmi Note 11 (Horizon Blue, 128 GB)']\n"
     ]
    }
   ],
   "source": [
    "scraper=AutoScraper()\n",
    "result=scraper.build(flipkart_url,wanted_list)\n",
    "print(result)"
   ]
  },
  {
   "cell_type": "markdown",
   "id": "bbf37af1",
   "metadata": {},
   "source": [
    "# Then differentiate the items based on their own groupe by using ,grouped=True"
   ]
  },
  {
   "cell_type": "code",
   "execution_count": 16,
   "id": "055c82c2",
   "metadata": {},
   "outputs": [
    {
     "data": {
      "text/plain": [
       "{'rule_n05a': ['₹8,793',\n",
       "  '₹31,999',\n",
       "  '₹8,060',\n",
       "  '₹6,799',\n",
       "  '₹15,839',\n",
       "  '₹8,080',\n",
       "  '₹6,989',\n",
       "  '₹18,468',\n",
       "  '₹16,285',\n",
       "  '₹6,845',\n",
       "  '₹17,799',\n",
       "  '₹31,999',\n",
       "  '₹33,999',\n",
       "  '₹15,929',\n",
       "  '₹25,349'],\n",
       " 'rule_4vyu': ['₹8,793',\n",
       "  '₹31,999',\n",
       "  '₹8,060',\n",
       "  '₹6,799',\n",
       "  '₹15,839',\n",
       "  '₹8,080',\n",
       "  '₹6,989',\n",
       "  '₹18,468',\n",
       "  '₹16,285',\n",
       "  '₹6,845',\n",
       "  '₹17,799',\n",
       "  '₹31,999',\n",
       "  '₹33,999',\n",
       "  '₹15,929',\n",
       "  '₹25,349'],\n",
       " 'rule_lheo': ['REDMI 10A (Slate Grey, 32 GB)',\n",
       "  'REDMI 10A (Slate grey, 64 GB)',\n",
       "  'REDMI 10A (Sea Blue, 64 GB)',\n",
       "  'Xiaomi 11i Hypercharge 5G (Pacific Pearl, 128 GB)',\n",
       "  'Redmi 9A Sport (Carbon Black, 32 GB)',\n",
       "  'Redmi 9A Sport (Metallic Blue, 32 GB)',\n",
       "  'Redmi 9A Sport (Metallic Blue, 32 GB)',\n",
       "  'REDMI Note 11T 5G (Stardust White, 128 GB)',\n",
       "  'Redmi 9A Sport (Coral Green, 32 GB)',\n",
       "  'REDMI 10A (Charcoal Black, 64 GB)',\n",
       "  'Redmi Note 11 (Horizon Blue, 64 GB)',\n",
       "  'Redmi 9A Sport (Coral Green, 32 GB)',\n",
       "  'REDMI 10A (Sea Blue, 64 GB)',\n",
       "  'REDMI Note 11T 5G (Aquamarine Blue, 128 GB)',\n",
       "  'Redmi Note 11S (Space Black, 128 GB)',\n",
       "  'Redmi Note 11 (Starburst White, 128 GB)',\n",
       "  'Redmi 9A Sport (Carbon Black, 32 GB)',\n",
       "  'Redmi Note 11S (Space Black, 128 GB)',\n",
       "  'REDMI Note 11T 5G (Matte black, 128 GB)',\n",
       "  'REDMI Note 11T 5G (Aquamarine Blue, 128 GB)',\n",
       "  'Xiaomi 11i 5G (Stealth Black, 128 GB)',\n",
       "  'Xiaomi 11i Hypercharge 5G (Stealth Black, 128 GB)',\n",
       "  'Redmi Note 11 (Horizon Blue, 128 GB)',\n",
       "  'Xiaomi 11Lite NE (Vinyl Black, 128 GB)'],\n",
       " 'rule_j6iq': ['REDMI 10A (Slate Grey, 32 GB)',\n",
       "  'REDMI 10A (Slate grey, 64 GB)',\n",
       "  'REDMI 10A (Sea Blue, 64 GB)',\n",
       "  'Xiaomi 11i Hypercharge 5G (Pacific Pearl, 128 GB)',\n",
       "  'Redmi 9A Sport (Carbon Black, 32 GB)',\n",
       "  'Redmi 9A Sport (Metallic Blue, 32 GB)',\n",
       "  'Redmi 9A Sport (Metallic Blue, 32 GB)',\n",
       "  'REDMI Note 11T 5G (Stardust White, 128 GB)',\n",
       "  'Redmi 9A Sport (Coral Green, 32 GB)',\n",
       "  'REDMI 10A (Charcoal Black, 64 GB)',\n",
       "  'Redmi Note 11 (Horizon Blue, 64 GB)',\n",
       "  'Redmi 9A Sport (Coral Green, 32 GB)',\n",
       "  'REDMI 10A (Sea Blue, 64 GB)',\n",
       "  'REDMI Note 11T 5G (Aquamarine Blue, 128 GB)',\n",
       "  'Redmi Note 11S (Space Black, 128 GB)',\n",
       "  'Redmi Note 11 (Starburst White, 128 GB)',\n",
       "  'Redmi 9A Sport (Carbon Black, 32 GB)',\n",
       "  'Redmi Note 11S (Space Black, 128 GB)',\n",
       "  'REDMI Note 11T 5G (Matte black, 128 GB)',\n",
       "  'REDMI Note 11T 5G (Aquamarine Blue, 128 GB)',\n",
       "  'Xiaomi 11i 5G (Stealth Black, 128 GB)',\n",
       "  'Xiaomi 11i Hypercharge 5G (Stealth Black, 128 GB)',\n",
       "  'Redmi Note 11 (Horizon Blue, 128 GB)',\n",
       "  'Xiaomi 11Lite NE (Vinyl Black, 128 GB)']}"
      ]
     },
     "execution_count": 16,
     "metadata": {},
     "output_type": "execute_result"
    }
   ],
   "source": [
    "scraper.get_result_similar(flipkart_url,grouped=True)"
   ]
  },
  {
   "cell_type": "markdown",
   "id": "169b7f3f",
   "metadata": {},
   "source": [
    "# and save this scenario for next item for there simplification"
   ]
  },
  {
   "cell_type": "code",
   "execution_count": 36,
   "id": "e6a465ac",
   "metadata": {},
   "outputs": [],
   "source": [
    "scraper.set_rule_aliases({'rule_4vyu':'Price'})\n",
    "scraper.keep_rules(['rule_4vyu'])\n",
    "scraper.save('flipkart search')"
   ]
  },
  {
   "cell_type": "code",
   "execution_count": 37,
   "id": "90fc49f4",
   "metadata": {},
   "outputs": [],
   "source": [
    "results=scraper.get_result_similar('https://www.flipkart.com/search?q=iphone+11',group_by_alias=True)"
   ]
  },
  {
   "cell_type": "code",
   "execution_count": 38,
   "id": "49f26e12",
   "metadata": {},
   "outputs": [
    {
     "data": {
      "text/plain": [
       "['₹48,900',\n",
       " '₹48,900',\n",
       " '₹43,900',\n",
       " '₹43,900',\n",
       " '₹43,900',\n",
       " '₹43,900',\n",
       " '₹48,900',\n",
       " '₹48,900',\n",
       " '₹48,900',\n",
       " '₹43,900',\n",
       " '₹48,900',\n",
       " '₹1,17,100',\n",
       " '₹1,17,100',\n",
       " '₹1,17,100',\n",
       " '₹1,06,600',\n",
       " '₹1,21,300',\n",
       " '₹1,06,600',\n",
       " '₹1,21,300']"
      ]
     },
     "execution_count": 38,
     "metadata": {},
     "output_type": "execute_result"
    }
   ],
   "source": [
    "results['Price']"
   ]
  },
  {
   "cell_type": "code",
   "execution_count": null,
   "id": "1956bea0",
   "metadata": {},
   "outputs": [],
   "source": []
  }
 ],
 "metadata": {
  "kernelspec": {
   "display_name": "Python 3",
   "language": "python",
   "name": "python3"
  },
  "language_info": {
   "codemirror_mode": {
    "name": "ipython",
    "version": 3
   },
   "file_extension": ".py",
   "mimetype": "text/x-python",
   "name": "python",
   "nbconvert_exporter": "python",
   "pygments_lexer": "ipython3",
   "version": "3.8.8"
  }
 },
 "nbformat": 4,
 "nbformat_minor": 5
}
